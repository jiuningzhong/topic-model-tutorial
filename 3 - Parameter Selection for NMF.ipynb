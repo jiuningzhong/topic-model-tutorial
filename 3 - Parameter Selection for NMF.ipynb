{
 "cells": [
  {
   "cell_type": "markdown",
   "metadata": {},
   "source": [
    "# Parameter Selection for NMF"
   ]
  },
  {
   "cell_type": "markdown",
   "metadata": {},
   "source": [
    "Now we look at the more advanced task of parameter selection for NMF topic modelling - namely, selecting a useful value for the number of topics *k*."
   ]
  },
  {
   "cell_type": "markdown",
   "metadata": {},
   "source": [
    "First, let's load the TF-IDF normalised document-term matrix and list of terms that we stored earlier using *Joblib*:"
   ]
  },
  {
   "cell_type": "code",
   "execution_count": 645,
   "metadata": {
    "scrolled": true
   },
   "outputs": [
    {
     "name": "stdout",
     "output_type": "stream",
     "text": [
      "Loaded 2009 X 318 document-term matrix\n"
     ]
    }
   ],
   "source": [
    "from sklearn.externals import joblib\n",
    "(A,terms,snippets) = joblib.load( \"articles-tfidf.pkl\" )\n",
    "print( \"Loaded %d X %d document-term matrix\" % (A.shape[0], A.shape[1]) )"
   ]
  },
  {
   "cell_type": "markdown",
   "metadata": {},
   "source": [
    "### Create the Topic Models"
   ]
  },
  {
   "cell_type": "markdown",
   "metadata": {},
   "source": [
    "A common approach for parameter selection is to Measure and compare the topic coherence of models generated for different values of *k*."
   ]
  },
  {
   "cell_type": "markdown",
   "metadata": {},
   "source": [
    "We need to start by pre-specifying an initial range of \"sensible\" values:"
   ]
  },
  {
   "cell_type": "code",
   "execution_count": 627,
   "metadata": {},
   "outputs": [],
   "source": [
    "kmin, kmax = 6, 50"
   ]
  },
  {
   "cell_type": "markdown",
   "metadata": {},
   "source": [
    "Apply NMF for each of these values:"
   ]
  },
  {
   "cell_type": "code",
   "execution_count": 629,
   "metadata": {
    "scrolled": true
   },
   "outputs": [
    {
     "name": "stdout",
     "output_type": "stream",
     "text": [
      "Applying NMF for k=6 ...\n",
      "Applying NMF for k=7 ...\n",
      "Applying NMF for k=8 ...\n",
      "Applying NMF for k=9 ...\n",
      "Applying NMF for k=10 ...\n",
      "Applying NMF for k=11 ...\n",
      "Applying NMF for k=12 ...\n",
      "Applying NMF for k=13 ...\n",
      "Applying NMF for k=14 ...\n",
      "Applying NMF for k=15 ...\n",
      "Applying NMF for k=16 ...\n",
      "Applying NMF for k=17 ...\n",
      "Applying NMF for k=18 ...\n",
      "Applying NMF for k=19 ...\n",
      "Applying NMF for k=20 ...\n",
      "Applying NMF for k=21 ...\n",
      "Applying NMF for k=22 ...\n",
      "Applying NMF for k=23 ...\n",
      "Applying NMF for k=24 ...\n",
      "Applying NMF for k=25 ...\n",
      "Applying NMF for k=26 ...\n",
      "Applying NMF for k=27 ...\n",
      "Applying NMF for k=28 ...\n",
      "Applying NMF for k=29 ...\n",
      "Applying NMF for k=30 ...\n",
      "Applying NMF for k=31 ...\n",
      "Applying NMF for k=32 ...\n",
      "Applying NMF for k=33 ...\n",
      "Applying NMF for k=34 ...\n",
      "Applying NMF for k=35 ...\n",
      "Applying NMF for k=36 ...\n",
      "Applying NMF for k=37 ...\n",
      "Applying NMF for k=38 ...\n",
      "Applying NMF for k=39 ...\n",
      "Applying NMF for k=40 ...\n",
      "Applying NMF for k=41 ...\n",
      "Applying NMF for k=42 ...\n",
      "Applying NMF for k=43 ...\n",
      "Applying NMF for k=44 ...\n",
      "Applying NMF for k=45 ...\n",
      "Applying NMF for k=46 ...\n",
      "Applying NMF for k=47 ...\n",
      "Applying NMF for k=48 ...\n",
      "Applying NMF for k=49 ...\n",
      "Applying NMF for k=50 ...\n"
     ]
    }
   ],
   "source": [
    "from sklearn import decomposition\n",
    "topic_models = []\n",
    "# try each value of k\n",
    "for k in range(kmin,kmax+1):\n",
    "    print(\"Applying NMF for k=%d ...\" % k )\n",
    "    # run NMF\n",
    "    model = decomposition.NMF( init=\"nndsvd\", n_components=k ) \n",
    "    W = model.fit_transform( A )\n",
    "    H = model.components_    \n",
    "    # store for later\n",
    "    topic_models.append( (k,W,H) )"
   ]
  },
  {
   "cell_type": "markdown",
   "metadata": {},
   "source": [
    "### Build a Word Embedding"
   ]
  },
  {
   "cell_type": "markdown",
   "metadata": {},
   "source": [
    "To select the number of topics, here we will use a *topic coherence* measure called TC-W2V. This measure relies on the use of a *word embedding* model constructed from our corpus. So in this step we will use the *Gensim* implementation of Word2Vec to build a Word2Vec model based on our collection of news articles."
   ]
  },
  {
   "cell_type": "markdown",
   "metadata": {},
   "source": [
    "**Note:** If you want to skip this step, a pre-built Word2Vec model for the sample dataset [is also provided here for download](http://erdos.ucd.ie/files/pydata/w2v-model.bin) (71MB)."
   ]
  },
  {
   "cell_type": "markdown",
   "metadata": {},
   "source": [
    "We read the documents from the input file again:"
   ]
  },
  {
   "cell_type": "code",
   "execution_count": 630,
   "metadata": {},
   "outputs": [
    {
     "name": "stdout",
     "output_type": "stream",
     "text": [
      "Read 2009 raw text documents\n"
     ]
    }
   ],
   "source": [
    "import os.path\n",
    "import csv\n",
    "from sklearn.feature_extraction.text import CountVectorizer\n",
    "import numpy as np\n",
    "import gensim\n",
    "import os\n",
    "import sys\n",
    "from scipy import sparse\n",
    "import pickle\n",
    "import json\n",
    "from gensim.parsing.preprocessing import STOPWORDS\n",
    "\n",
    "raw_documents = []\n",
    "\n",
    "file_path = 'Train_all_types_hashes.csv'\n",
    "csv.register_dialect(\"hashes\", delimiter=\"#\")\n",
    "\n",
    "with open(file_path, \"r\", encoding=\"utf8\") as fin:\n",
    "    csv_reader = csv.reader(fin, delimiter=\"#\")\n",
    "\n",
    "    for line in csv_reader:\n",
    "        # text = line[0].strip()\n",
    "        text = gensim.utils.to_unicode(line[0], 'latin1').strip()\n",
    "        msg = list(gensim.utils.tokenize(text, lower=True))\n",
    "        msg = ' '.join(msg)\n",
    "        raw_documents.append( msg )\n",
    "\n",
    "\n",
    "print(\"Read %d raw text documents\" % len(raw_documents))"
   ]
  },
  {
   "cell_type": "markdown",
   "metadata": {},
   "source": [
    "Read the custom stopword list:"
   ]
  },
  {
   "cell_type": "code",
   "execution_count": 631,
   "metadata": {},
   "outputs": [
    {
     "name": "stdout",
     "output_type": "stream",
     "text": [
      "Stopword list has 350 entries\n"
     ]
    }
   ],
   "source": [
    "custom_stop_words = []\n",
    "with open( \"stopwords.txt\", \"r\" ) as fin:\n",
    "    for line in fin.readlines():\n",
    "        custom_stop_words.append( line.strip().lower() )\n",
    "# note that we need to make it hashable\n",
    "print(\"Stopword list has %d entries\" % len(custom_stop_words) )"
   ]
  },
  {
   "cell_type": "markdown",
   "metadata": {},
   "source": [
    "First, we need to define a class that will generate documents in a form that can be consumed by Gensim's Word2Vec implementation:"
   ]
  },
  {
   "cell_type": "code",
   "execution_count": 632,
   "metadata": {},
   "outputs": [],
   "source": [
    "import re\n",
    "class TokenGenerator:\n",
    "    def __init__( self, documents, stopwords ):\n",
    "        self.documents = documents\n",
    "        self.stopwords = stopwords\n",
    "        self.tokenizer = re.compile( r\"(?u)\\b\\w\\w+\\b\" )\n",
    "\n",
    "    def __iter__( self ):\n",
    "        print(\"Building Word2Vec model ...\")\n",
    "        for doc in self.documents:\n",
    "            tokens = []\n",
    "            for tok in self.tokenizer.findall( doc ):\n",
    "                if tok in self.stopwords:\n",
    "                    tokens.append( \"<stopword>\" )\n",
    "                elif len(tok) >= 2:\n",
    "                    tokens.append( tok )\n",
    "            yield tokens"
   ]
  },
  {
   "cell_type": "markdown",
   "metadata": {},
   "source": [
    "Now build a Skipgram Word2Vec model from all documents in the input file using *Gensim*:"
   ]
  },
  {
   "cell_type": "code",
   "execution_count": 633,
   "metadata": {},
   "outputs": [
    {
     "name": "stdout",
     "output_type": "stream",
     "text": [
      "Building Word2Vec model ...\n",
      "Building Word2Vec model ...\n",
      "Building Word2Vec model ...\n",
      "Building Word2Vec model ...\n",
      "Building Word2Vec model ...\n",
      "Building Word2Vec model ...\n"
     ]
    }
   ],
   "source": [
    "import gensim\n",
    "docgen = TokenGenerator( raw_documents, custom_stop_words )\n",
    "# print(len(docgen.documents))\n",
    "# the model has 219 dimensions, the minimum document-term frequency is 20\n",
    "w2v_model = gensim.models.Word2Vec(docgen, sg=1,size=350, min_count=15) # "
   ]
  },
  {
   "cell_type": "code",
   "execution_count": 634,
   "metadata": {},
   "outputs": [
    {
     "name": "stdout",
     "output_type": "stream",
     "text": [
      "Model has 410 terms\n"
     ]
    }
   ],
   "source": [
    "print( \"Model has %d terms\" % len(w2v_model.wv.vocab) )"
   ]
  },
  {
   "cell_type": "markdown",
   "metadata": {},
   "source": [
    "Save for later use, so that we do not need to rebuild it:"
   ]
  },
  {
   "cell_type": "code",
   "execution_count": 635,
   "metadata": {},
   "outputs": [],
   "source": [
    "w2v_model.save(\"w2v-model.bin\")"
   ]
  },
  {
   "cell_type": "code",
   "execution_count": 636,
   "metadata": {},
   "outputs": [],
   "source": [
    "# To re-load this model, run\n",
    "#w2v_model = gensim.models.Word2Vec.load(\"w2v-model.bin\")"
   ]
  },
  {
   "cell_type": "markdown",
   "metadata": {},
   "source": [
    "### Selecting the Number of Topics"
   ]
  },
  {
   "cell_type": "markdown",
   "metadata": {
    "collapsed": true
   },
   "source": [
    "Once we have our Word2vec model, we can use it as part of our *topic coherence* approach to evaluate the different NMF topic models that we created previously. To do this, we will implement a simple version of the TC-W2V coherence measure."
   ]
  },
  {
   "cell_type": "markdown",
   "metadata": {},
   "source": [
    "We use the Word2vec model to calculate coherence scores for each of these models. We will define this coherence score as follows:"
   ]
  },
  {
   "cell_type": "code",
   "execution_count": 637,
   "metadata": {},
   "outputs": [],
   "source": [
    "def calculate_coherence( w2v_model, term_rankings ):\n",
    "    overall_coherence = 0.0\n",
    "    for topic_index in range(len(term_rankings)):\n",
    "        # check each pair of terms\n",
    "        pair_scores = []\n",
    "        for pair in combinations( term_rankings[topic_index], 2 ):\n",
    "            if pair[0] not in w2v_model.wv.vocab or pair[1] not in  w2v_model.wv.vocab:\n",
    "                continue\n",
    "            pair_scores.append( w2v_model.similarity(pair[0], pair[1]) )\n",
    "        # get the mean for all pairs in this topic\n",
    "        topic_score = sum(pair_scores) / len(pair_scores)\n",
    "        overall_coherence += topic_score\n",
    "    # get the mean score across all topics\n",
    "    return overall_coherence / len(term_rankings)"
   ]
  },
  {
   "cell_type": "markdown",
   "metadata": {},
   "source": [
    "We also define a function to get the topic descriptor (i.e. list of top terms) for each topic:"
   ]
  },
  {
   "cell_type": "code",
   "execution_count": 638,
   "metadata": {},
   "outputs": [],
   "source": [
    "import numpy as np\n",
    "def get_descriptor( all_terms, H, topic_index, top ):\n",
    "    # reverse sort the values to sort the indices\n",
    "    top_indices = np.argsort( H[topic_index,:] )[::-1]\n",
    "    # now get the terms corresponding to the top-ranked indices\n",
    "    top_terms = []\n",
    "    for term_index in top_indices[0:top]:\n",
    "        top_terms.append( all_terms[term_index] )\n",
    "    return top_terms"
   ]
  },
  {
   "cell_type": "markdown",
   "metadata": {},
   "source": [
    "Now process each of the models for different values of *k*:"
   ]
  },
  {
   "cell_type": "code",
   "execution_count": 639,
   "metadata": {
    "scrolled": true
   },
   "outputs": [
    {
     "name": "stderr",
     "output_type": "stream",
     "text": [
      "/Users/jiuningzhong/opt/anaconda3/lib/python3.7/site-packages/ipykernel_launcher.py:9: DeprecationWarning: Call to deprecated `similarity` (Method will be removed in 4.0.0, use self.wv.similarity() instead).\n",
      "  if __name__ == '__main__':\n"
     ]
    },
    {
     "name": "stdout",
     "output_type": "stream",
     "text": [
      "K=06: Coherence=0.8662\n",
      "K=07: Coherence=0.8573\n",
      "K=08: Coherence=0.8549\n",
      "K=09: Coherence=0.8627\n",
      "K=10: Coherence=0.8706\n",
      "K=11: Coherence=0.8646\n",
      "K=12: Coherence=0.8661\n",
      "K=13: Coherence=0.8625\n",
      "K=14: Coherence=0.8664\n",
      "K=15: Coherence=0.8611\n",
      "K=16: Coherence=0.8636\n",
      "K=17: Coherence=0.8710\n",
      "K=18: Coherence=0.8689\n",
      "K=19: Coherence=0.8616\n",
      "K=20: Coherence=0.8626\n",
      "K=21: Coherence=0.8620\n",
      "K=22: Coherence=0.8567\n",
      "K=23: Coherence=0.8553\n",
      "K=24: Coherence=0.8588\n",
      "K=25: Coherence=0.8578\n",
      "K=26: Coherence=0.8420\n",
      "K=27: Coherence=0.8390\n",
      "K=28: Coherence=0.8455\n",
      "K=29: Coherence=0.8376\n",
      "K=30: Coherence=0.8534\n",
      "K=31: Coherence=0.8557\n",
      "K=32: Coherence=0.8469\n",
      "K=33: Coherence=0.8505\n",
      "K=34: Coherence=0.8536\n",
      "K=35: Coherence=0.8459\n",
      "K=36: Coherence=0.8494\n",
      "K=37: Coherence=0.8383\n",
      "K=38: Coherence=0.8475\n",
      "K=39: Coherence=0.8444\n",
      "K=40: Coherence=0.8411\n",
      "K=41: Coherence=0.8465\n",
      "K=42: Coherence=0.8436\n",
      "K=43: Coherence=0.8495\n",
      "K=44: Coherence=0.8455\n",
      "K=45: Coherence=0.8542\n",
      "K=46: Coherence=0.8522\n",
      "K=47: Coherence=0.8476\n",
      "K=48: Coherence=0.8429\n",
      "K=49: Coherence=0.8523\n",
      "K=50: Coherence=0.8564\n"
     ]
    }
   ],
   "source": [
    "from itertools import combinations\n",
    "k_values = []\n",
    "coherences = []\n",
    "for (k,W,H) in topic_models:\n",
    "    # Get all of the topic descriptors - the term_rankings, based on top 10 terms\n",
    "    term_rankings = []\n",
    "    for topic_index in range(k):\n",
    "        term_rankings.append( get_descriptor( terms, H, topic_index, 10 ) )\n",
    "    # Now calculate the coherence based on our Word2vec model\n",
    "    k_values.append( k )\n",
    "    coherences.append( calculate_coherence( w2v_model, term_rankings ) )\n",
    "    print(\"K=%02d: Coherence=%.4f\" % ( k, coherences[-1] ) )"
   ]
  },
  {
   "cell_type": "markdown",
   "metadata": {},
   "source": [
    "We can now use *matplotlib* to generate a line plot of these coherence scores, to help us select an appropriate value."
   ]
  },
  {
   "cell_type": "code",
   "execution_count": 640,
   "metadata": {},
   "outputs": [],
   "source": [
    "%matplotlib inline\n",
    "import matplotlib\n",
    "import matplotlib.pyplot as plt\n",
    "plt.style.use(\"ggplot\")\n",
    "matplotlib.rcParams.update({\"font.size\": 14})"
   ]
  },
  {
   "cell_type": "code",
   "execution_count": 641,
   "metadata": {},
   "outputs": [
    {
     "data": {
      "image/png": "[encoded data removed]",
      "text/plain": [
       "<Figure size 936x504 with 1 Axes>"
      ]
     },
     "metadata": {},
     "output_type": "display_data"
    }
   ],
   "source": [
    "fig = plt.figure(figsize=(13,7))\n",
    "# create the line plot\n",
    "ax = plt.plot( k_values, coherences )\n",
    "plt.xticks(k_values)\n",
    "plt.xlabel(\"Number of Topics\")\n",
    "plt.ylabel(\"Mean Coherence\")\n",
    "# add the points\n",
    "plt.scatter( k_values, coherences, s=120)\n",
    "# find and annotate the maximum point on the plot\n",
    "ymax = max(coherences)\n",
    "xpos = coherences.index(ymax)\n",
    "best_k = k_values[xpos]\n",
    "plt.annotate( \"k=%d\" % best_k, xy=(best_k, ymax), xytext=(best_k, ymax), textcoords=\"offset points\", fontsize=16)\n",
    "# show the plot\n",
    "plt.show()"
   ]
  },
  {
   "cell_type": "markdown",
   "metadata": {},
   "source": [
    "### Examine the Final  Model"
   ]
  },
  {
   "cell_type": "markdown",
   "metadata": {},
   "source": [
    "The plot above suggests that the most appropriate value for the number of topics is *k=8*."
   ]
  },
  {
   "cell_type": "code",
   "execution_count": 642,
   "metadata": {},
   "outputs": [],
   "source": [
    "k = best_k\n",
    "# get the model that we generated earlier.\n",
    "W = topic_models[k-kmin][1]\n",
    "H = topic_models[k-kmin][2]"
   ]
  },
  {
   "cell_type": "markdown",
   "metadata": {},
   "source": [
    "Display the topic descriptors for this model:"
   ]
  },
  {
   "cell_type": "code",
   "execution_count": 644,
   "metadata": {},
   "outputs": [
    {
     "name": "stdout",
     "output_type": "stream",
     "text": [
      "Topic 01: light, shadow, photoluminescence, source, hits, lens, travels, penumbra, umbra, chemiluminescence\n",
      "Topic 02: blood, heart, cells, body, oxygen, lungs, white, called, right, bone\n",
      "Topic 03: water, filter, get, sugar, drink, humans, carbon, way, help, ground\n",
      "Topic 04: red, green, blue, yellow, rose, eye, absorbed, cones, eyes, reflected\n",
      "Topic 05: moss, grow, trees, plants, tree, spores, grows, live, plant, seeds\n",
      "Topic 06: see, object, opaque, transparent, translucent, means, objects, glass, something, shadow\n",
      "Topic 07: brain, body, part, parts, controls, stem, things, cerebrum, spinal, cord\n",
      "Topic 08: food, system, eat, stomach, digestive, get, energy, intestine, small, nutrients\n",
      "Topic 09: sun, moon, eclipse, earth, solar, shadow, lunar, front, blocks, learned\n",
      "Topic 10: ants, ant, hills, queen, information, build, live, dirt, right, eat\n",
      "Topic 11: mirror, concave, convex, reflection, lens, angle, mirrors, law, goes, flat\n",
      "Topic 12: link, google, docs, edit, image, photosynthesis, source, screenshot, thing, parts\n",
      "Topic 13: need, understand, heart, air, get, living, thing, people, oxygen, feel\n",
      "Topic 14: theory, eat, live, animals, explain, travels, waves, lot, better, courtyard\n",
      "Topic 15: rainbow, prism, rain, white, shine, air, violet, goes, see, put\n",
      "Topic 16: know, think, people, things, something, want, get, sleep, good, cause\n",
      "Topic 17: colors, primary, secondary, yellow, magenta, cyan, white, mix, get, light\n"
     ]
    }
   ],
   "source": [
    "for topic_index in range(k):\n",
    "    descriptor = get_descriptor( terms, H, topic_index, 10 )\n",
    "    str_descriptor = \", \".join( descriptor )\n",
    "    print(\"Topic %02d: %s\" % ( topic_index+1, str_descriptor ) )"
   ]
  },
  {
   "cell_type": "code",
   "execution_count": null,
   "outputs": [],
   "source": [],
   "metadata": {
    "collapsed": false,
    "pycharm": {
     "name": "#%%\n"
    }
   }
  },
  {
   "cell_type": "code",
   "execution_count": null,
   "outputs": [],
   "source": [],
   "metadata": {
    "collapsed": false,
    "pycharm": {
     "name": "#%%\n"
    }
   }
  },
  {
   "cell_type": "code",
   "execution_count": null,
   "metadata": {},
   "outputs": [],
   "source": []
  },
  {
   "cell_type": "code",
   "execution_count": null,
   "metadata": {},
   "outputs": [],
   "source": []
  }
 ],
 "metadata": {
  "kernelspec": {
   "display_name": "Python 3",
   "language": "python",
   "name": "python3"
  },
  "language_info": {
   "codemirror_mode": {
    "name": "ipython",
    "version": 3
   },
   "file_extension": ".py",
   "mimetype": "text/x-python",
   "name": "python",
   "nbconvert_exporter": "python",
   "pygments_lexer": "ipython3",
   "version": "3.7.4"
  },
  "pycharm": {
   "stem_cell": {
    "cell_type": "raw",
    "source": [],
    "metadata": {
     "collapsed": false
    }
   }
  }
 },
 "nbformat": 4,
 "nbformat_minor": 2
}
{
 "cells": [
  {
   "cell_type": "markdown",
   "metadata": {},
   "source": [
    "# NMF Topic Models"
   ]
  },
  {
   "cell_type": "markdown",
   "metadata": {},
   "source": [
    "Topic modelling aims to automatically discover the hidden thematic structure in a large corpus of text documents. One approach for topic modelling is to apply *matrix factorisation* methods, such as *Non-negative Matrix Factorisation (NMF)*. In this notebook we look at how to apply NMF using the *scikit-learn* library in Python."
   ]
  },
  {
   "cell_type": "markdown",
   "metadata": {},
   "source": [
    "### Applying NMF"
   ]
  },
  {
   "cell_type": "markdown",
   "metadata": {},
   "source": [
    "First, let's load the TF-IDF normalised document-term matrix and list of terms that we stored earlier using *Joblib*:"
   ]
  },
  {
   "cell_type": "code",
   "execution_count": 300,
   "metadata": {},
   "outputs": [
    {
     "name": "stdout",
     "output_type": "stream",
     "text": [
      "Loaded 2009 X 318 document-term matrix\n"
     ]
    }
   ],
   "source": [
    "from sklearn.externals import joblib\n",
    "(A,terms,snippets) = joblib.load( \"articles-tfidf.pkl\" ) # articles-tfidf.pkl\n",
    "print( \"Loaded %d X %d document-term matrix\" % (A.shape[0], A.shape[1]) )"
   ]
  },
  {
   "cell_type": "markdown",
   "metadata": {},
   "source": [
    "The key input parameter to NMF is the number of topics to generate *k*. For the moment, we will pre-specify a guessed value, for demonstration purposes."
   ]
  },
  {
   "cell_type": "code",
   "execution_count": 301,
   "metadata": {},
   "outputs": [],
   "source": [
    "k = 50"
   ]
  },
  {
   "cell_type": "markdown",
   "metadata": {},
   "source": [
    "Another choice for NMF revolves around initialisation. Most commonly, NMF involves using random initialisation to populate the values in the factors W and H. Depending on the random seed that you use, you may get different results on the same dataset. Instead, using SVD-based initialisation provides more reliable results."
   ]
  },
  {
   "cell_type": "code",
   "execution_count": 302,
   "metadata": {},
   "outputs": [],
   "source": [
    "# create the model\n",
    "from sklearn import decomposition\n",
    "model = decomposition.NMF( init=\"nndsvd\", n_components=k ) \n",
    "# apply the model and extract the two factor matrices\n",
    "W = model.fit_transform( A )\n",
    "H = model.components_"
   ]
  },
  {
   "cell_type": "markdown",
   "metadata": {},
   "source": [
    "### Examining the Output"
   ]
  },
  {
   "cell_type": "markdown",
   "metadata": {},
   "source": [
    "NMF produces to factor matrices as its output: *W* and *H*.\n",
    "\n",
    "The *W* factor contains the document membership weights relative to each of the *k* topics. Each row corresponds to a single document, and each column correspond to a topic."
   ]
  },
  {
   "cell_type": "code",
   "execution_count": 303,
   "metadata": {},
   "outputs": [
    {
     "data": {
      "text/plain": [
       "(2009, 50)"
      ]
     },
     "execution_count": 303,
     "metadata": {},
     "output_type": "execute_result"
    }
   ],
   "source": [
    "W.shape"
   ]
  },
  {
   "cell_type": "markdown",
   "metadata": {},
   "source": [
    "For instance, for the first document, we see that it is strongly associated with one topic. However,  each document can be potentially associated with multiple topics to different degrees."
   ]
  },
  {
   "cell_type": "code",
   "execution_count": 304,
   "metadata": {},
   "outputs": [
    {
     "data": {
      "text/plain": [
       "array([0.  , 0.  , 0.  , 0.  , 0.  , 0.  , 0.  , 0.  , 0.  , 0.15, 0.  ,\n",
       "       0.  , 0.  , 0.2 , 0.  , 0.  , 0.  , 0.  , 0.  , 0.  , 0.  , 0.  ,\n",
       "       0.  , 0.  , 0.  , 0.  , 0.  , 0.  , 0.  , 0.  , 0.  , 0.  , 0.  ,\n",
       "       0.  , 0.  , 0.  , 0.  , 0.  , 0.  , 0.  , 0.  , 0.  , 0.  , 0.  ,\n",
       "       0.  , 0.  , 0.  , 0.  , 0.  , 0.  ])"
      ]
     },
     "execution_count": 304,
     "metadata": {},
     "output_type": "execute_result"
    }
   ],
   "source": [
    "# round to 2 decimal places for display purposes\n",
    "W[0,:].round(2)"
   ]
  },
  {
   "cell_type": "markdown",
   "metadata": {},
   "source": [
    "The *H* factor contains the term weights relative to each of the *k* topics. In this case, each row corresponds to a topic, and each column corresponds to a unique term in the corpus vocabulary."
   ]
  },
  {
   "cell_type": "code",
   "execution_count": 305,
   "metadata": {},
   "outputs": [
    {
     "data": {
      "text/plain": [
       "(50, 318)"
      ]
     },
     "execution_count": 305,
     "metadata": {},
     "output_type": "execute_result"
    }
   ],
   "source": [
    "H.shape"
   ]
  },
  {
   "cell_type": "markdown",
   "metadata": {},
   "source": [
    "For instance, for the term \"light\", we see that it is strongly associated with a single topic. Again, in some cases each term can be associated with multiple topics."
   ]
  },
  {
   "cell_type": "code",
   "execution_count": 306,
   "metadata": {},
   "outputs": [
    {
     "data": {
      "text/plain": [
       "array([9.82, 0.  , 0.  , 0.  , 0.  , 0.03, 0.  , 0.  , 0.  , 0.  , 0.02,\n",
       "       0.  , 0.  , 0.  , 0.  , 0.  , 0.16, 0.  , 0.  , 0.01, 0.01, 0.  ,\n",
       "       0.  , 0.  , 0.  , 0.  , 0.  , 0.  , 0.  , 0.  , 0.  , 0.  , 0.  ,\n",
       "       0.  , 0.  , 0.  , 0.  , 0.14, 0.  , 0.  , 0.  , 0.  , 0.  , 0.  ,\n",
       "       0.  , 0.09, 0.  , 0.  , 0.  , 0.  ])"
      ]
     },
     "execution_count": 306,
     "metadata": {},
     "output_type": "execute_result"
    }
   ],
   "source": [
    "term_index = terms.index('light')\n",
    "# round to 2 decimal places for display purposes\n",
    "H[:,term_index].round(2)"
   ]
  },
  {
   "cell_type": "markdown",
   "metadata": {},
   "source": [
    "### Topic Descriptors"
   ]
  },
  {
   "cell_type": "markdown",
   "metadata": {},
   "source": [
    "The top ranked terms from the *H* factor for each topic can give us an insight into the content of that topic. This is often called the *topic descriptor*. Let's define a function that extracts the descriptor for a specified topic: "
   ]
  },
  {
   "cell_type": "code",
   "execution_count": 307,
   "metadata": {},
   "outputs": [],
   "source": [
    "import numpy as np\n",
    "def get_descriptor( terms, H, topic_index, top ):\n",
    "    # reverse sort the values to sort the indices\n",
    "    top_indices = np.argsort( H[topic_index,:] )[::-1]\n",
    "    # now get the terms corresponding to the top-ranked indices\n",
    "    top_terms = []\n",
    "    for term_index in top_indices[0:top]:\n",
    "        top_terms.append( terms[term_index] )\n",
    "    return top_terms"
   ]
  },
  {
   "cell_type": "markdown",
   "metadata": {},
   "source": [
    "We can now get a descriptor for each topic using the top ranked terms (e.g. top 10):"
   ]
  },
  {
   "cell_type": "code",
   "execution_count": 308,
   "metadata": {
    "scrolled": true
   },
   "outputs": [
    {
     "name": "stdout",
     "output_type": "stream",
     "text": [
      "Topic 01: light, travels, source, hits, straight, understanding, waves, solar, shine, chemiluminescence\n",
      "Topic 02: blood, cells, red, oxygen, veins, vessels, marrow, skin, form, carry\n",
      "Topic 03: water, filter, drink, sugar, humans, way, ground, world, need, hard\n",
      "Topic 04: red, green, blue, rose, cones, eye, absorbed, yellow, eyes, reflected\n",
      "Topic 05: moss, grow, spores, grows, seeds, plant, north, wind, trees, types\n",
      "Topic 06: see, transparent, eyes, rose, bounces, far, glass, able, translucent, eye\n",
      "Topic 07: brain, part, controls, stem, cerebrum, parts, spinal, cord, important, sends\n",
      "Topic 08: food, stomach, digest, take, mouth, queen, long, breaks, break, esophagus\n",
      "Topic 09: sun, moon, eclipse, earth, solar, lunar, blocks, front, learned, shadow\n",
      "Topic 10: ants, information, build, sleep, queen, insects, dirt, move, turn, main\n",
      "Topic 11: mirror, concave, looks, bounces, side, flat, right, shape, head, away\n",
      "Topic 12: google, docs, edit, link, lots, acids, learned, source, find, picture\n",
      "Topic 13: need, understand, feel, sun, keep, kind, filters, take, work, survive\n",
      "Topic 14: theory, explain, travels, waves, better, lot, away, gets, world, straight\n",
      "Topic 15: shadow, penumbra, umbra, dark, part, source, hits, shadows, big, tell\n",
      "Topic 16: know, want, bit, kinds, mean, before, diffrent, cells, way, sugar\n",
      "Topic 17: colors, primary, secondary, different, violet, mix, green, light, black, lights\n",
      "Topic 18: get, mix, questions, really, way, hit, colored, wondering, ways, cause\n",
      "Topic 19: people, help, good, far, mucus, lot, person, eyes, usually, bacteria\n",
      "Topic 20: rainbow, prism, rain, shine, violet, want, colors, put, sun, shines\n",
      "Topic 21: white, mix, cells, filter, soil, black, put, red, everything, inside\n",
      "Topic 22: reflection, angle, law, flat, hits, mirror, bounces, place, reflected, shine\n",
      "Topic 23: animals, insects, work, courtyard, survive, humans, world, explain, small, plants\n",
      "Topic 24: think, keep, straight, travels, lot, cause, stuff, dark, dirt, eyes\n",
      "Topic 25: heart, right, left, ventricle, pumps, blood, atrium, information, veins, side\n",
      "Topic 26: image, screenshot, information, filters, picture, eye, right, looks, work, head\n",
      "Topic 27: air, breath, wind, comes, ways, sun, able, lights, stuff, courtyard\n",
      "Topic 28: things, glow, chemiluminescence, objects, dark, certain, lot, lots, solar, chemical\n",
      "Topic 29: bones, bone, marrow, little, lot, hard, muscles, inside, break, help\n",
      "Topic 30: object, opaque, translucent, transparent, means, objects, glass, lets, shines, clear\n",
      "Topic 31: yellow, magenta, cyan, secondary, colors, mix, blue, green, objects, absorbed\n",
      "Topic 32: ant, hills, queen, build, dirt, right, carry, time, find, work\n",
      "Topic 33: live, long, trees, wondering, needs, days, explain, courtyard, leaves, outside\n",
      "Topic 34: system, digestive, work, part, information, controls, die, mouth, way, stomach\n",
      "Topic 35: thing, eye, information, cones, saw, glow, color, shadows, happens, comes\n",
      "Topic 36: plants, soil, information, grow, sunlight, plant, photosynthesis, seeds, agree, dioxide\n",
      "Topic 37: body, parts, human, spinal, gets, cord, back, control, needs, time\n",
      "Topic 38: lens, concave, shape, hits, side, light, eye, convex, thats, help\n",
      "Topic 39: small, intestine, nutrients, liver, digestive, chyme, large, break, pancreas, acids\n",
      "Topic 40: tree, trees, apple, grow, apples, fall, leaves, type, weather, color\n",
      "Topic 41: eat, stuff, sugar, learned, apple, drink, healthy, start, wondering, good\n",
      "Topic 42: convex, mirrors, look, mirror, far, help, lens, kinds, right, side\n",
      "Topic 43: goes, gets, means, stomach, comes, bounces, rain, front, outside, sugar\n",
      "Topic 44: something, dreams, time, sleep, wondering, dose, good, happens, day, happen\n",
      "Topic 45: living, help, means, bacteria, weather, matter, different, things, carry, gives\n",
      "Topic 46: photoluminescence, animal, gives, learned, dark, chemiluminescence, glow, bacteria, chemical, light\n",
      "Topic 47: called, lights, northern, chemical, different, color, form, types, tiny, thats\n",
      "Topic 48: lungs, oxygen, carbon, dioxide, breathe, back, breath, plant, atrium, clear\n",
      "Topic 49: energy, solar, process, plant, chemiluminescence, chemical, turn, takes, apple, source\n",
      "Topic 50: link, photosynthesis, parts, source, left, google, top, hit, bad, cells\n"
     ]
    }
   ],
   "source": [
    "descriptors = []\n",
    "for topic_index in range(k):\n",
    "    descriptors.append( get_descriptor( terms, H, topic_index, 10 ) )\n",
    "    str_descriptor = \", \".join( descriptors[topic_index] )\n",
    "    print(\"Topic %02d: %s\" % ( topic_index+1, str_descriptor ) )"
   ]
  },
  {
   "cell_type": "markdown",
   "metadata": {},
   "source": [
    "The rankings above do not show the strength of association for the different terms. We can represent the distribution of the weights for the top terms in a topic using a *matplotlib* horizontal bar chart."
   ]
  },
  {
   "cell_type": "code",
   "execution_count": 309,
   "metadata": {},
   "outputs": [],
   "source": [
    "%matplotlib inline\n",
    "import numpy as np\n",
    "import matplotlib\n",
    "import matplotlib.pyplot as plt\n",
    "plt.style.use(\"ggplot\")\n",
    "matplotlib.rcParams.update({\"font.size\": 14})"
   ]
  },
  {
   "cell_type": "markdown",
   "metadata": {},
   "source": [
    "Define a function to create a bar chart for the specified topic, based on the *H* factor from the current NMF model:"
   ]
  },
  {
   "cell_type": "code",
   "execution_count": 310,
   "metadata": {},
   "outputs": [],
   "source": [
    "def plot_top_term_weights( terms, H, topic_index, top ):\n",
    "    # get the top terms and their weights\n",
    "    top_indices = np.argsort( H[topic_index,:] )[::-1]\n",
    "    top_terms = []\n",
    "    top_weights = []\n",
    "    for term_index in top_indices[0:top]:\n",
    "        top_terms.append( terms[term_index] )\n",
    "        top_weights.append( H[topic_index,term_index] )\n",
    "    # note we reverse the ordering for the plot\n",
    "    top_terms.reverse()\n",
    "    top_weights.reverse()\n",
    "    # create the plot\n",
    "    fig = plt.figure(figsize=(13,8))\n",
    "    # add the horizontal bar chart\n",
    "    ypos = np.arange(top)\n",
    "    ax = plt.barh(ypos, top_weights, align=\"center\", color=\"green\",tick_label=top_terms)\n",
    "    plt.xlabel(\"Term Weight\",fontsize=14)\n",
    "    plt.tight_layout()\n",
    "    plt.show()"
   ]
  },
  {
   "cell_type": "markdown",
   "metadata": {},
   "source": [
    "So for instance, for the 7th topic we can generate a plot with the top 15 terms using:"
   ]
  },
  {
   "cell_type": "code",
   "execution_count": 311,
   "metadata": {},
   "outputs": [
    {
     "data": {
      "image/png": "[encoded data removed]",
      "text/plain": [
       "<Figure size 936x576 with 1 Axes>"
      ]
     },
     "metadata": {},
     "output_type": "display_data"
    }
   ],
   "source": [
    "plot_top_term_weights( terms, H, 6, 15 )"
   ]
  },
  {
   "cell_type": "markdown",
   "metadata": {},
   "source": [
    "### Most Relevant Documents"
   ]
  },
  {
   "cell_type": "markdown",
   "metadata": {},
   "source": [
    "We can also look at the snippets for the top-ranked documents for each topic. We'll define a function to produce this ranking also."
   ]
  },
  {
   "cell_type": "code",
   "execution_count": 312,
   "metadata": {},
   "outputs": [],
   "source": [
    "def get_top_snippets( all_snippets, W, topic_index, top ):\n",
    "    # reverse sort the values to sort the indices\n",
    "    top_indices = np.argsort( W[:,topic_index] )[::-1]\n",
    "    # now get the snippets corresponding to the top-ranked indices\n",
    "    top_snippets = []\n",
    "    for doc_index in top_indices[0:top]:\n",
    "        top_snippets.append( all_snippets[doc_index] )\n",
    "    return top_snippets"
   ]
  },
  {
   "cell_type": "markdown",
   "metadata": {},
   "source": [
    "For instance, for the first topic listed above, the top 10 documents are:"
   ]
  },
  {
   "cell_type": "code",
   "execution_count": 313,
   "metadata": {},
   "outputs": [
    {
     "name": "stdout",
     "output_type": "stream",
     "text": [
      "01. it dost focus the light\n",
      "02. lasers are the best wielding equipment that i no of because it saved the navy millions laser is shor\n",
      "03. some lenses make light spread out\n",
      "04. lasers are very highly bright and intense light they can burn though anything\n",
      "05. lasers are very highly bright and intense light it can burn through anything\n",
      "06. there are 2 rinds of light natural and artificial the kind of light that is in your home is artifici\n",
      "07. water bends light\n",
      "08. there are two kinds of light natural and artificial natural light is light from a natural light sour\n",
      "09. all we see is light\n",
      "10. all we see is light without light we can not see\n"
     ]
    }
   ],
   "source": [
    "topic_snippets = get_top_snippets( snippets, W, 0, 10 )\n",
    "for i, snippet in enumerate(topic_snippets):\n",
    "    print(\"%02d. %s\" % ( (i+1), snippet ) )"
   ]
  },
  {
   "cell_type": "markdown",
   "metadata": {},
   "source": [
    "Similarly, for the second topic:"
   ]
  },
  {
   "cell_type": "code",
   "execution_count": 314,
   "metadata": {},
   "outputs": [
    {
     "name": "stdout",
     "output_type": "stream",
     "text": [
      "01. mosquito bites can be so powerfull that they can crush blood vesls\n",
      "02. white blood cells are different than red blood cells white blood cells fight sicknesses by blobbing \n",
      "03. white blood cells are like blobs they blob up all the bad things red blood cells are what make up yo\n",
      "04. the plasma in your blood makes up 50 to 55 of blood also there is water in plasma red blood cells ma\n",
      "05. aorta: tackes oxgenrich blood to the bodyarturies: brings blood to the body\n",
      "06. different blood types then hemolysis the destruction of red blood cells can occur hemolysis can caus\n",
      "07. the pulmonary vein collects the blood cells after the oxygen travels through the trachea and attache\n",
      "08. that is what i was thinking because white blood cells fight off sicknesess\n",
      "09. white blood cells clean the infection\n",
      "10. the questions i have now are white blood cells are the same or different than red blood cells\n"
     ]
    }
   ],
   "source": [
    "topic_snippets = get_top_snippets( snippets, W, 1, 10 )\n",
    "for i, snippet in enumerate(topic_snippets):\n",
    "    print(\"%02d. %s\" % ( (i+1), snippet ) )"
   ]
  },
  {
   "cell_type": "markdown",
   "metadata": {},
   "source": [
    "### Exporting the Results"
   ]
  },
  {
   "cell_type": "markdown",
   "metadata": {},
   "source": [
    "If we want to keep this topic model for later user, we can save it using *joblib*:"
   ]
  },
  {
   "cell_type": "code",
   "execution_count": 315,
   "metadata": {},
   "outputs": [
    {
     "data": {
      "text/plain": [
       "['articles-model-nmf-k50.pkl']"
      ]
     },
     "execution_count": 315,
     "metadata": {},
     "output_type": "execute_result"
    }
   ],
   "source": [
    "joblib.dump((W,H,terms,snippets), \"articles-model-nmf-k%02d.pkl\" % k) "
   ]
  },
  {
   "cell_type": "code",
   "execution_count": null,
   "outputs": [],
   "source": [],
   "metadata": {
    "collapsed": false,
    "pycharm": {
     "name": "#%%\n"
    }
   }
  },
  {
   "cell_type": "code",
   "execution_count": null,
   "metadata": {},
   "outputs": [],
   "source": []
  },
  {
   "cell_type": "code",
   "execution_count": null,
   "metadata": {},
   "outputs": [],
   "source": []
  }
 ],
 "metadata": {
  "kernelspec": {
   "display_name": "Python 3",
   "language": "python",
   "name": "python3"
  },
  "language_info": {
   "codemirror_mode": {
    "name": "ipython",
    "version": 3
   },
   "file_extension": ".py",
   "mimetype": "text/x-python",
   "name": "python",
   "nbconvert_exporter": "python",
   "pygments_lexer": "ipython3",
   "version": "3.7.4"
  },
  "pycharm": {
   "stem_cell": {
    "cell_type": "raw",
    "source": [],
    "metadata": {
     "collapsed": false
    }
   }
  }
 },
 "nbformat": 4,
 "nbformat_minor": 2
}